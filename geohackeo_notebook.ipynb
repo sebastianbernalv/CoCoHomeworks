{
 "cells": [
  {
   "cell_type": "code",
   "execution_count": 7,
   "id": "990a6205-397b-4e0a-b789-65fe42b922c1",
   "metadata": {},
   "outputs": [],
   "source": [
    "# Importing libraries\n",
    "import os\n",
    "import pandas as pd\n",
    "import matplotlib.pyplot as plt\n",
    "import xarray as xr\n",
    "\n",
    "from pathlib import Path"
   ]
  },
  {
   "cell_type": "code",
   "execution_count": 8,
   "id": "bf3d40b4-1b7c-4437-b80d-32887354e07e",
   "metadata": {},
   "outputs": [],
   "source": [
    "# Directories\n",
    "clorofila_drty   = Path(\".\")/\"rasterData_chlorophyll-a\"\n",
    "temperature_drty = Path(\".\")/\"rasterData_sea_temperature\""
   ]
  },
  {
   "cell_type": "code",
   "execution_count": 20,
   "id": "12923c3b-e387-481a-a0e3-43ce8966df6a",
   "metadata": {},
   "outputs": [
    {
     "data": {
      "text/plain": [
       "PosixPath('rasterData_sea_temperature')"
      ]
     },
     "execution_count": 20,
     "metadata": {},
     "output_type": "execute_result"
    }
   ],
   "source": [
    "temperature_drty"
   ]
  },
  {
   "cell_type": "code",
   "execution_count": 26,
   "id": "474acdb4-cf66-448f-ae7a-2e658e4a9149",
   "metadata": {},
   "outputs": [
    {
     "data": {
      "text/plain": [
       "['MYD28M_2021-06-01_gs_720x360.TIFF',\n",
       " 'MYD28M_2021-08-01_gs_720x360.TIFF',\n",
       " 'MYD28M_2021-12-01_gs_720x360.TIFF',\n",
       " 'MYD28M_2021-01-01_gs_720x360.TIFF',\n",
       " 'MYD28M_2021-10-01_gs_720x360.TIFF',\n",
       " 'MYD28M_2021-11-01_gs_720x360.TIFF',\n",
       " 'MYD28M_2021-09-01_gs_720x360.TIFF',\n",
       " 'MYD28M_2021-04-01_gs_720x360.TIFF',\n",
       " 'MYD28M_2021-02-01_gs_720x360.TIFF',\n",
       " 'MYD28M_2021-05-01_gs_720x360.TIFF',\n",
       " 'MYD28M_2021-07-01_gs_720x360.TIFF']"
      ]
     },
     "execution_count": 26,
     "metadata": {},
     "output_type": "execute_result"
    }
   ],
   "source": [
    "files = os.listdir(\"./\" + str(temperature_drty))\n",
    "[ files[i] for i in range(0,11) if files[i][-len(\"TIFF\"):] == \"TIFF\" ]"
   ]
  },
  {
   "cell_type": "code",
   "execution_count": 29,
   "id": "d94955bc-df79-4362-a74d-e017feb86262",
   "metadata": {},
   "outputs": [],
   "source": [
    "# Creating my function\n",
    "def drty2xr(directory, filetype=\"tif\"):\n",
    "    directory = str(directory)\n",
    "    directory = \"./\" + directory\n",
    "    \n",
    "    files = os.listdir(directory)\n",
    "    files = [ files[i] for i in range(0,11) if files[i][-len(filetype):] == filetype ]\n",
    "    \n",
    "    out_xr = xr.open_dataarray(directory+\"/\"+files[0], engine=\"rasterio\")\n",
    "    for file in files:\n",
    "        if file == files[0]: \n",
    "            out_xr = out_xr\n",
    "        else: \n",
    "            temp_xr = xr.open_dataarray(directory+\"/\"+file, engine=\"rasterio\")\n",
    "            out_xr = xr.concat([out_xr, temp_xr], dim='band')\n",
    "        \n",
    "    return(out_xr)"
   ]
  },
  {
   "cell_type": "code",
   "execution_count": 31,
   "id": "80095816-3a45-4124-9fb4-723a33336653",
   "metadata": {},
   "outputs": [
    {
     "name": "stdout",
     "output_type": "stream",
     "text": [
      "<xarray.DataArray 'band_data' (band: 11, y: 360, x: 720)>\n",
      "array([[[255., 255., 255., ..., 255., 255., 255.],\n",
      "        [255., 255., 255., ..., 255., 255., 255.],\n",
      "        [255., 255., 255., ..., 255., 255., 255.],\n",
      "        ...,\n",
      "        [255., 255., 255., ..., 255., 255., 255.],\n",
      "        [255., 255., 255., ..., 255., 255., 255.],\n",
      "        [255., 255., 255., ..., 255., 255., 255.]],\n",
      "\n",
      "       [[255., 255., 255., ..., 255., 255., 255.],\n",
      "        [255., 255., 255., ..., 255., 255., 255.],\n",
      "        [ 18.,  18.,  18., ..., 255., 255., 255.],\n",
      "        ...,\n",
      "        [255., 255., 255., ..., 255., 255., 255.],\n",
      "        [255., 255., 255., ..., 255., 255., 255.],\n",
      "        [255., 255., 255., ..., 255., 255., 255.]],\n",
      "\n",
      "       [[255., 255., 255., ..., 255., 255., 255.],\n",
      "        [255., 255., 255., ..., 255., 255., 255.],\n",
      "        [255., 255., 255., ..., 255., 255., 255.],\n",
      "        ...,\n",
      "...\n",
      "        ...,\n",
      "        [255., 255., 255., ..., 255., 255., 255.],\n",
      "        [255., 255., 255., ..., 255., 255., 255.],\n",
      "        [255., 255., 255., ..., 255., 255., 255.]],\n",
      "\n",
      "       [[255., 255., 255., ..., 255., 255., 255.],\n",
      "        [255., 255., 255., ..., 255., 255., 255.],\n",
      "        [255., 255., 255., ..., 255., 255., 255.],\n",
      "        ...,\n",
      "        [255., 255., 255., ..., 255., 255., 255.],\n",
      "        [255., 255., 255., ..., 255., 255., 255.],\n",
      "        [255., 255., 255., ..., 255., 255., 255.]],\n",
      "\n",
      "       [[255., 255., 255., ..., 255., 255., 255.],\n",
      "        [255., 255., 255., ..., 255., 255., 255.],\n",
      "        [255., 255., 255., ..., 255., 255., 255.],\n",
      "        ...,\n",
      "        [255., 255., 255., ..., 255., 255., 255.],\n",
      "        [255., 255., 255., ..., 255., 255., 255.],\n",
      "        [255., 255., 255., ..., 255., 255., 255.]]], dtype=float32)\n",
      "Coordinates:\n",
      "  * band         (band) int64 1 1 1 1 1 1 1 1 1 1 1\n",
      "  * x            (x) float64 -179.8 -179.2 -178.8 -178.2 ... 178.8 179.2 179.8\n",
      "  * y            (y) float64 89.75 89.25 88.75 88.25 ... -88.75 -89.25 -89.75\n",
      "    spatial_ref  int64 0\n",
      "Attributes:\n",
      "    AREA_OR_POINT:           Area\n",
      "    TIFFTAG_RESOLUTIONUNIT:  1 (unitless)\n",
      "    TIFFTAG_XRESOLUTION:     1\n",
      "    TIFFTAG_YRESOLUTION:     1\n"
     ]
    }
   ],
   "source": [
    "temp_xr = drty2xr(temperature_drty, filetype=\"TIFF\")\n",
    "print(temp_xr)"
   ]
  },
  {
   "cell_type": "code",
   "execution_count": null,
   "id": "9e2b9131-2963-4321-b501-708f118ce2db",
   "metadata": {},
   "outputs": [],
   "source": []
  }
 ],
 "metadata": {
  "kernelspec": {
   "display_name": "CoCo",
   "language": "python",
   "name": "coco"
  },
  "language_info": {
   "codemirror_mode": {
    "name": "ipython",
    "version": 3
   },
   "file_extension": ".py",
   "mimetype": "text/x-python",
   "name": "python",
   "nbconvert_exporter": "python",
   "pygments_lexer": "ipython3",
   "version": "3.10.4"
  }
 },
 "nbformat": 4,
 "nbformat_minor": 5
}
