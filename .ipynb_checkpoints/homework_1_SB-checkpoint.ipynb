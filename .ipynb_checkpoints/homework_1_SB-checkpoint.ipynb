{
 "cells": [
  {
   "cell_type": "code",
   "execution_count": 32,
   "id": "9a9b3c8c-76f2-4225-b84c-f6cbffcfcf97",
   "metadata": {},
   "outputs": [],
   "source": [
    "# Importing numpy\n",
    "import numpy as np"
   ]
  },
  {
   "cell_type": "markdown",
   "id": "2fec86b1-6334-491c-b074-e6be7a2d3165",
   "metadata": {},
   "source": [
    "-- --\n",
    "1° Task\n",
    "\n",
    "- Create a list with the names of every planet in the solar system (in order)\n",
    "- Have Python tell you how many planets there are by examining your list\n",
    "- Print the first four planets in the solar system (the rocky planets)\n",
    "- Print the planet if it has an s at the end in its name"
   ]
  },
  {
   "cell_type": "code",
   "execution_count": 5,
   "id": "95d6af55-38b1-44b7-8c80-29ae8e857570",
   "metadata": {},
   "outputs": [],
   "source": [
    "# Creating a list with the planets\n",
    "planet_list = [\"Mercury\", \"Venus\", \"Earth\", \"Mars\", \"Jupiter\", \"Saturn\", \"Uranus\", \"Neptune\"]"
   ]
  },
  {
   "cell_type": "code",
   "execution_count": 6,
   "id": "e0715a10-6110-482b-a875-289f04b4f984",
   "metadata": {},
   "outputs": [
    {
     "data": {
      "text/plain": [
       "8"
      ]
     },
     "execution_count": 6,
     "metadata": {},
     "output_type": "execute_result"
    }
   ],
   "source": [
    "# Planet list length\n",
    "len(planet_list)"
   ]
  },
  {
   "cell_type": "code",
   "execution_count": 7,
   "id": "e74ab3c3-2eac-4109-a069-66347952cce6",
   "metadata": {},
   "outputs": [
    {
     "data": {
      "text/plain": [
       "['Mercury', 'Venus', 'Earth', 'Mars']"
      ]
     },
     "execution_count": 7,
     "metadata": {},
     "output_type": "execute_result"
    }
   ],
   "source": [
    "# Printing the first 4 planets\n",
    "planet_list[:4]"
   ]
  },
  {
   "cell_type": "code",
   "execution_count": 20,
   "id": "5f59d7c6-d346-4c0a-9dcf-6da89920117a",
   "metadata": {},
   "outputs": [
    {
     "name": "stdout",
     "output_type": "stream",
     "text": [
      "['Venus', 'Mars', 'Uranus']\n"
     ]
    }
   ],
   "source": [
    "# Printing planets ending in \"s\"\n",
    "print([  planet_list[i] for i in range(0,8) if planet_list[i][-1] == \"s\"  ])"
   ]
  },
  {
   "cell_type": "markdown",
   "id": "a82d1b21-ab63-440b-aaea-dc74772dc65c",
   "metadata": {},
   "source": [
    "-- --\n",
    "2° Task\n",
    "\n",
    "A colleague from the United States shared with us the following temperature measurement, given in Fahrenheit: 30.3 [°F]\n",
    "\n",
    "Requirements:\n",
    "- Assign the received data to a variable.\n",
    "- Apply the unit transformation using this variable.\n",
    "- Save the data in Celsius in another variable.\n",
    "- Use the print function to display both results."
   ]
  },
  {
   "cell_type": "code",
   "execution_count": 21,
   "id": "d4ee072c-f7d6-4d6e-a50c-a6d4376fecc1",
   "metadata": {},
   "outputs": [],
   "source": [
    "# Assigning the data to a variable\n",
    "temperature_fahrenheit = 30.3"
   ]
  },
  {
   "cell_type": "code",
   "execution_count": 22,
   "id": "47fcb290-5932-470c-beca-69972074ee84",
   "metadata": {},
   "outputs": [],
   "source": [
    "# Applying the unit transformation\n",
    "temperature_celsius = (5/9)*(temperature_fahrenheit - 32)"
   ]
  },
  {
   "cell_type": "code",
   "execution_count": 30,
   "id": "a52e6f32-129d-4fae-bcc8-2c8cb919b415",
   "metadata": {},
   "outputs": [
    {
     "name": "stdout",
     "output_type": "stream",
     "text": [
      "Temperature values:\n",
      "Fahrenheit: 30.3 [°F]\n",
      "Celsius: -0.9 [°C]\n"
     ]
    }
   ],
   "source": [
    "# Printing both results\n",
    "print(\"Temperature values:\\n\" + \n",
    "      \"Fahrenheit: \" + str(temperature_fahrenheit) + \" [°F]\\n\" +\n",
    "      \"Celsius: \"    + str(round(temperature_celsius,1))    + \" [°C]\")"
   ]
  },
  {
   "cell_type": "markdown",
   "id": "dfa08247-42e2-4071-844f-659435ae99a6",
   "metadata": {},
   "source": [
    "-- --\n",
    "3° Task\n",
    "\n",
    "Given the array: ([1, 2, 3, 4, 5, 6, 7, 8, 9, 10, 11, 12, 13, 14, 15, 16]), investigate the numpy library documentation for reshape the array to be 4x4."
   ]
  },
  {
   "cell_type": "code",
   "execution_count": 33,
   "id": "09d3d69a-d819-4907-937a-5325f3e2df70",
   "metadata": {},
   "outputs": [
    {
     "data": {
      "text/plain": [
       "array([[ 1,  2,  3,  4],\n",
       "       [ 5,  6,  7,  8],\n",
       "       [ 9, 10, 11, 12],\n",
       "       [13, 14, 15, 16]])"
      ]
     },
     "execution_count": 33,
     "metadata": {},
     "output_type": "execute_result"
    }
   ],
   "source": [
    "# Reshaping the array\n",
    "given_array = np.array([1, 2, 3, 4, 5, 6, 7, 8, 9, 10, 11, 12, 13, 14, 15, 16])\n",
    "np.reshape(given_array, (4,4))"
   ]
  },
  {
   "cell_type": "markdown",
   "id": "432f9d61-02d7-4f97-b433-faed6002ab3c",
   "metadata": {},
   "source": [
    "-- --\n",
    "4° Task\n",
    "\n",
    "NumPy allows us to apply mathematical functions.\n",
    "\n",
    "Calculate the sine and cosine of the angles 0, 30, 45, 60 and 90 given in degrees:\n",
    "\n",
    "- Create an array with the angles in degrees.\n",
    "- Convert the angles to radians.\n",
    "- Calculate the sine and cosine of these angles and store them in two different arrays."
   ]
  },
  {
   "cell_type": "code",
   "execution_count": 40,
   "id": "89f5c652-5c21-4107-9054-5140a0c94ef5",
   "metadata": {},
   "outputs": [
    {
     "name": "stdout",
     "output_type": "stream",
     "text": [
      "[ 0 30 45 60 90]\n"
     ]
    }
   ],
   "source": [
    "# Storing the angles\n",
    "angles_degrees = np.array([0, 30, 45, 60, 90])\n",
    "print(angles_degrees)"
   ]
  },
  {
   "cell_type": "code",
   "execution_count": 39,
   "id": "28e8c2c7-cc24-4217-b06a-5561b441e33d",
   "metadata": {},
   "outputs": [
    {
     "name": "stdout",
     "output_type": "stream",
     "text": [
      "[0.         0.52359878 0.78539816 1.04719755 1.57079633]\n"
     ]
    }
   ],
   "source": [
    "# Converting angles to radians\n",
    "angles_radians = np.radians(angles_degrees)\n",
    "print(angles_radians)"
   ]
  },
  {
   "cell_type": "code",
   "execution_count": 51,
   "id": "1216d5df-866d-440a-85b6-6272c0b66f88",
   "metadata": {},
   "outputs": [
    {
     "name": "stdout",
     "output_type": "stream",
     "text": [
      "Sin: [0.    0.5   0.707 0.866 1.   ]\n",
      "Cos: [1.    0.866 0.707 0.5   0.   ]\n"
     ]
    }
   ],
   "source": [
    "# Calculating sin and cos\n",
    "sin_angles = np.sin(angles_radians)\n",
    "print(\"Sin: \" + str(np.round(sin_angles,3)))\n",
    "\n",
    "cos_angles = np.cos(angles_radians)\n",
    "print(\"Cos: \" + str(np.round(cos_angles,3)))"
   ]
  },
  {
   "cell_type": "markdown",
   "id": "280905e9-7e90-46f4-aed2-24b2f2d08ce2",
   "metadata": {},
   "source": [
    "-- --\n",
    "5° Task\n",
    "\n",
    "Finite differences | Diferencias finitas\n",
    "\n",
    "A common approximation for computing derivatives of functions is a finite difference approximation.\n",
    "\n",
    "This operation can be accomplished using index, slice and vectorized algebraic operations. Try to solve it for the quadratic function!\n",
    "\n",
    "Now, read the numpy documentation to find a function to calculate."
   ]
  },
  {
   "cell_type": "code",
   "execution_count": 67,
   "id": "cea3ded1-7533-424d-8a89-fcc132d2bdd4",
   "metadata": {},
   "outputs": [
    {
     "name": "stdout",
     "output_type": "stream",
     "text": [
      "[ 0.   0.1  0.2  0.3  0.4  0.5  0.6  0.7  0.8  0.9  1.   1.1  1.2  1.3\n",
      "  1.4  1.5  1.6  1.7  1.8  1.9  2.   2.1  2.2  2.3  2.4  2.5  2.6  2.7\n",
      "  2.8  2.9  3.   3.1  3.2  3.3  3.4  3.5  3.6  3.7  3.8  3.9  4.   4.1\n",
      "  4.2  4.3  4.4  4.5  4.6  4.7  4.8  4.9  5.   5.1  5.2  5.3  5.4  5.5\n",
      "  5.6  5.7  5.8  5.9  6.   6.1  6.2  6.3  6.4  6.5  6.6  6.7  6.8  6.9\n",
      "  7.   7.1  7.2  7.3  7.4  7.5  7.6  7.7  7.8  7.9  8.   8.1  8.2  8.3\n",
      "  8.4  8.5  8.6  8.7  8.8  8.9  9.   9.1  9.2  9.3  9.4  9.5  9.6  9.7\n",
      "  9.8  9.9 10. ]\n"
     ]
    }
   ],
   "source": [
    "# Creating a vector for x-values (spaced by 0.1)\n",
    "x_values = np.linspace(0, 10, 101)\n",
    "print(x_values)"
   ]
  },
  {
   "cell_type": "code",
   "execution_count": 65,
   "id": "fc4b44ba-f065-42c7-9e2f-c12d0e7a4cb8",
   "metadata": {},
   "outputs": [
    {
     "name": "stdout",
     "output_type": "stream",
     "text": [
      "[0.000e+00 1.000e-02 4.000e-02 9.000e-02 1.600e-01 2.500e-01 3.600e-01\n",
      " 4.900e-01 6.400e-01 8.100e-01 1.000e+00 1.210e+00 1.440e+00 1.690e+00\n",
      " 1.960e+00 2.250e+00 2.560e+00 2.890e+00 3.240e+00 3.610e+00 4.000e+00\n",
      " 4.410e+00 4.840e+00 5.290e+00 5.760e+00 6.250e+00 6.760e+00 7.290e+00\n",
      " 7.840e+00 8.410e+00 9.000e+00 9.610e+00 1.024e+01 1.089e+01 1.156e+01\n",
      " 1.225e+01 1.296e+01 1.369e+01 1.444e+01 1.521e+01 1.600e+01 1.681e+01\n",
      " 1.764e+01 1.849e+01 1.936e+01 2.025e+01 2.116e+01 2.209e+01 2.304e+01\n",
      " 2.401e+01 2.500e+01 2.601e+01 2.704e+01 2.809e+01 2.916e+01 3.025e+01\n",
      " 3.136e+01 3.249e+01 3.364e+01 3.481e+01 3.600e+01 3.721e+01 3.844e+01\n",
      " 3.969e+01 4.096e+01 4.225e+01 4.356e+01 4.489e+01 4.624e+01 4.761e+01\n",
      " 4.900e+01 5.041e+01 5.184e+01 5.329e+01 5.476e+01 5.625e+01 5.776e+01\n",
      " 5.929e+01 6.084e+01 6.241e+01 6.400e+01 6.561e+01 6.724e+01 6.889e+01\n",
      " 7.056e+01 7.225e+01 7.396e+01 7.569e+01 7.744e+01 7.921e+01 8.100e+01\n",
      " 8.281e+01 8.464e+01 8.649e+01 8.836e+01 9.025e+01 9.216e+01 9.409e+01\n",
      " 9.604e+01 9.801e+01 1.000e+02]\n"
     ]
    }
   ],
   "source": [
    "# Calculating y-values using a quadratic function: y(x)=x^2\n",
    "y_values = x_values**2\n",
    "print(y_values)"
   ]
  },
  {
   "cell_type": "code",
   "execution_count": 66,
   "id": "c3fe88f6-ed57-4ba9-9984-cd9a46b6d336",
   "metadata": {},
   "outputs": [
    {
     "name": "stdout",
     "output_type": "stream",
     "text": [
      "[ 0.1  0.3  0.5  0.7  0.9  1.1  1.3  1.5  1.7  1.9  2.1  2.3  2.5  2.7\n",
      "  2.9  3.1  3.3  3.5  3.7  3.9  4.1  4.3  4.5  4.7  4.9  5.1  5.3  5.5\n",
      "  5.7  5.9  6.1  6.3  6.5  6.7  6.9  7.1  7.3  7.5  7.7  7.9  8.1  8.3\n",
      "  8.5  8.7  8.9  9.1  9.3  9.5  9.7  9.9 10.1 10.3 10.5 10.7 10.9 11.1\n",
      " 11.3 11.5 11.7 11.9 12.1 12.3 12.5 12.7 12.9 13.1 13.3 13.5 13.7 13.9\n",
      " 14.1 14.3 14.5 14.7 14.9 15.1 15.3 15.5 15.7 15.9 16.1 16.3 16.5 16.7\n",
      " 16.9 17.1 17.3 17.5 17.7 17.9 18.1 18.3 18.5 18.7 18.9 19.1 19.3 19.5\n",
      " 19.7 19.9]\n"
     ]
    }
   ],
   "source": [
    "# Approximating the derivative as: dy/dx = [y(i+1) - y(i)] / [x(i+1) - x(i)] \n",
    "dy_values = (y_values[1:] - y_values[0:-1]) / (x_values[1:] - x_values[0:-1])\n",
    "print(dy_values)"
   ]
  }
 ],
 "metadata": {
  "kernelspec": {
   "display_name": "CoCo",
   "language": "python",
   "name": "coco"
  },
  "language_info": {
   "codemirror_mode": {
    "name": "ipython",
    "version": 3
   },
   "file_extension": ".py",
   "mimetype": "text/x-python",
   "name": "python",
   "nbconvert_exporter": "python",
   "pygments_lexer": "ipython3",
   "version": "3.10.4"
  }
 },
 "nbformat": 4,
 "nbformat_minor": 5
}
