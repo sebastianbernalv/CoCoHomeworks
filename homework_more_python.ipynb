{
 "cells": [
  {
   "cell_type": "markdown",
   "id": "e4cc611e-9c63-4d4f-947c-4becab0552e9",
   "metadata": {},
   "source": [
    "# Homework 3"
   ]
  },
  {
   "cell_type": "code",
   "execution_count": 234,
   "id": "c90f372f-7cad-443f-9cac-aa7b31b9e34f",
   "metadata": {},
   "outputs": [],
   "source": [
    "# Importing libraries\n",
    "import numpy as np\n",
    "import matplotlib.pyplot as plt"
   ]
  },
  {
   "cell_type": "markdown",
   "id": "54f8d0ed-7bdf-4134-ac25-9875de5b052f",
   "metadata": {},
   "source": [
    "-- --\n",
    "## Task 1\n",
    "\n",
    "1. Convert the following list of temperatures in Fahrenheit to Celsius with a for loop. `temperatures_f = [30.2, 41, 115.7, 77, 130.46, 59, 86, 63.5, 23]`\n",
    "\n",
    "2. Use for loops and conditionals to generate a temperature alert for:\n",
    "\n",
    "    - low temperatures (less or equal than 0°C)\n",
    "    - high temperatures (greater or equal than 35°C)\n",
    "    - normal temperatures (between 0°C and 35°C)\n",
    "\n",
    "\n",
    "3. Generate two functions:\n",
    "\n",
    "    - a function that takes a single value of temperature in Fahrenheit and returns the same value in Celsius.\n",
    "    - a function that takes a single temperature value and prints its corresponding temperature alert.\n",
    "    \n",
    "    Use a for loop to iterate over the temperature values in Fahrenheit: convert the value to Celsius and print the alert. Use the two functions to do so."
   ]
  },
  {
   "cell_type": "code",
   "execution_count": 235,
   "id": "739908d4-8941-4b9f-9906-61c538fdddb5",
   "metadata": {},
   "outputs": [
    {
     "name": "stdout",
     "output_type": "stream",
     "text": [
      "[-1.   5.  46.5 25.  54.7 15.  30.  17.5 -5. ]\n"
     ]
    }
   ],
   "source": [
    "# Creating variables\n",
    "temperature_fahrenheit = [30.2, 41, 115.7, 77, 130.46, 59, 86, 63.5, 23]\n",
    "temperature_celsius    = []\n",
    "\n",
    "# Converting temperatures using a for loop\n",
    "for i in temperature_fahrenheit:\n",
    "    tempCalc1 = (5/9)*(i - 32)\n",
    "    temperature_celsius.append(tempCalc1)\n",
    "    \n",
    "print(np.round(temperature_celsius, 3))"
   ]
  },
  {
   "cell_type": "code",
   "execution_count": 236,
   "id": "9dcd641d-69fe-4bf9-ab97-9b23370bfe37",
   "metadata": {},
   "outputs": [
    {
     "name": "stdout",
     "output_type": "stream",
     "text": [
      "-1.0 [°C] : Low temperature\n",
      "5.0 [°C] : Normal temperature\n",
      "46.5 [°C] : High temperature\n",
      "25.0 [°C] : Normal temperature\n",
      "54.7 [°C] : High temperature\n",
      "15.0 [°C] : Normal temperature\n",
      "30.0 [°C] : Normal temperature\n",
      "17.5 [°C] : Normal temperature\n",
      "-5.0 [°C] : Low temperature\n"
     ]
    }
   ],
   "source": [
    "# Printing temperature alerts\n",
    "for i in temperature_celsius:\n",
    "    if   i <= 0  : print(str(np.round(i, 3)) + \" [°C] : Low temperature\")\n",
    "    elif i >= 35 : print(str(np.round(i, 3)) + \" [°C] : High temperature\")\n",
    "    else         : print(str(np.round(i, 3)) + \" [°C] : Normal temperature\")"
   ]
  },
  {
   "cell_type": "code",
   "execution_count": 237,
   "id": "0ee2d798-df32-4aeb-a37b-420c12fdb12f",
   "metadata": {},
   "outputs": [
    {
     "name": "stdout",
     "output_type": "stream",
     "text": [
      "Help on function fahrenheit_to_celsius in module __main__:\n",
      "\n",
      "fahrenheit_to_celsius(temperature)\n",
      "    Convert temperature from Fahrenheit to Celsius degrees.\n",
      "    \n",
      "    -- Parameters:\n",
      "    temperature : float.\n",
      "                  Temperature values in Fahrenheit degrees.\n",
      "    \n",
      "    -- Returns:\n",
      "    results     : float.\n",
      "                  Temperature values in Celsius degrees.\n",
      "\n"
     ]
    }
   ],
   "source": [
    "# Defining the function to convert the temperature.\n",
    "def fahrenheit_to_celsius(temperature):\n",
    "    \"\"\"\n",
    "    Convert temperature from Fahrenheit to Celsius degrees.\n",
    "    \n",
    "    -- Parameters:\n",
    "    temperature : float.\n",
    "                  Temperature values in Fahrenheit degrees.\n",
    "    \n",
    "    -- Returns:\n",
    "    results     : float.\n",
    "                  Temperature values in Celsius degrees.\n",
    "    \"\"\"\n",
    "    \n",
    "    return (5/9)*(temperature - 32)\n",
    "# fahrenheit_to_celsius END\n",
    "\n",
    "help(fahrenheit_to_celsius)"
   ]
  },
  {
   "cell_type": "code",
   "execution_count": 238,
   "id": "9fba332b-e218-4627-98be-554a4b152b90",
   "metadata": {},
   "outputs": [
    {
     "name": "stdout",
     "output_type": "stream",
     "text": [
      "Help on function temperature_alert in module __main__:\n",
      "\n",
      "temperature_alert(temperature)\n",
      "    Print an alert depending on the temperature value.\n",
      "    \n",
      "    -- Parameters:\n",
      "    temperature : float.\n",
      "                  Temperature value in Celsius degrees.\n",
      "\n"
     ]
    }
   ],
   "source": [
    "# Defining function for the temperature alert.\n",
    "def temperature_alert(temperature):\n",
    "    \"\"\"\n",
    "    Print an alert depending on the temperature value.\n",
    "    \n",
    "    -- Parameters:\n",
    "    temperature : float.\n",
    "                  Temperature value in Celsius degrees.\n",
    "    \"\"\"\n",
    "    \n",
    "    if   temperature <= 0  : print(str(np.round(temperature, 3)) + \" [°C] : Low temperature\")\n",
    "    elif temperature >= 35 : print(str(np.round(temperature, 3)) + \" [°C] : High temperature\")\n",
    "    else                   : print(str(np.round(temperature, 3)) + \" [°C] : Normal temperature\")\n",
    "# temperature_alert END\n",
    "    \n",
    "help(temperature_alert)"
   ]
  },
  {
   "cell_type": "code",
   "execution_count": 239,
   "id": "10c8646c-f52b-4688-9926-33efc819db6e",
   "metadata": {},
   "outputs": [
    {
     "name": "stdout",
     "output_type": "stream",
     "text": [
      "-1.0 [°C] : Low temperature\n",
      "5.0 [°C] : Normal temperature\n",
      "46.5 [°C] : High temperature\n",
      "25.0 [°C] : Normal temperature\n",
      "54.7 [°C] : High temperature\n",
      "15.0 [°C] : Normal temperature\n",
      "30.0 [°C] : Normal temperature\n",
      "17.5 [°C] : Normal temperature\n",
      "-5.0 [°C] : Low temperature\n"
     ]
    }
   ],
   "source": [
    "# Evaluating functions\n",
    "temperature_celsius = []\n",
    "\n",
    "for i in temperature_fahrenheit:\n",
    "    tempCalc1 = fahrenheit_to_celsius(i)       # Converting temperature\n",
    "    temperature_alert(tempCalc1)               # Printing the alert\n",
    "    temperature_celsius.append(tempCalc1)      # Appending the results to the array\n"
   ]
  },
  {
   "cell_type": "markdown",
   "id": "ea6ff4c5-6776-4cd8-aab1-c83c0622d431",
   "metadata": {},
   "source": [
    "-- --\n",
    "## Task 2\n",
    "\n",
    "Your local airport is famous for its bad weather conditions. They need a tower operator to be constantly monitoring the weather conditions, specially the wind speed and the visibility.\n",
    "\n",
    "- If the wind speed is greater than 12 knots, then the runway must be closed and no plane can takeoff.\n",
    "- If the visibility is lower than 100 meters, they should also close the runway.\n",
    "- If the wind speed is between 8 kt and 12 kt, they should warn pilots of high wind speeds.\n",
    "- If the visiblity is between 100 meters and 500 meters, they should warn pilots of low visibilty conditions.\n",
    "- On any other situation, the weather is good enough so the runway is open and no warning should be issued.\n",
    "\n",
    "They want to automate this warning system so the operator can have more time to assist pilots.\n",
    "\n",
    "Write a function that takes wind speed in knots and visibility in meters. The function must raise warnings of high wind speeds or low visiblity conditions, or even close the runway if the weather conditions are bad enough.\n",
    "\n",
    "As a condition, the function must not have `print` statements, instead it should return strings like `\"good weather\"`, `\"low visibility conditions\"` or `\"bad weather: close runway\"`. Be creative!\n",
    "\n",
    "Feel free to test your function against some combinations of wind speed and visiblity."
   ]
  },
  {
   "cell_type": "code",
   "execution_count": 240,
   "id": "c608d971-c477-448e-9a3e-064d76d0f3b8",
   "metadata": {},
   "outputs": [
    {
     "name": "stdout",
     "output_type": "stream",
     "text": [
      "Help on function weather_conditions_alert in module __main__:\n",
      "\n",
      "weather_conditions_alert(wind_speed, visibility)\n",
      "    Print an alert depending on weather conditions.\n",
      "    \n",
      "    -- Parameters\n",
      "    wind_speed : float.\n",
      "                 Wind speed in knots.\n",
      "    visibility : float.\n",
      "                 Visibility distance in meters.\n",
      "\n"
     ]
    }
   ],
   "source": [
    "# Defining function\n",
    "def weather_conditions_alert(wind_speed, visibility):\n",
    "    \"\"\"\n",
    "    Print an alert depending on weather conditions.\n",
    "    \n",
    "    -- Parameters\n",
    "    wind_speed : float.\n",
    "                 Wind speed in knots.\n",
    "    visibility : float.\n",
    "                 Visibility distance in meters.\n",
    "    \"\"\"\n",
    "    \n",
    "    print(\"[        WEATHER REPORT       ]\")\n",
    "    print(\"[ --------------------------- ]\")\n",
    "    print(\"[ Wind speed : \", str(wind_speed), \" (knots) ]\")\n",
    "    print(\"[ Visibility : \", str(visibility), \" (meters) ]\")\n",
    "    print(\"[ --------------------------- ]\")\n",
    "    print(\"\")\n",
    "    \n",
    "    if wind_speed > 12 or visibility < 100: \n",
    "        return print(\"[ BAD WEATHER CONDITIONS! CLOSE RUNWAY! ]\")\n",
    "    \n",
    "    if wind_speed >= 8  : print(\"[ WARNING! HIGH WIND SPEED! ]\")\n",
    "    if visibility < 500 : print(\"[ WARNING! LOW VISIBILITY!  ]\")\n",
    "    \n",
    "    if wind_speed < 8 and visibility >= 500: print(\"[ IT'S A GOOD TIME TO FLY! ]\")\n",
    "# weather_conditions_alert END\n",
    "\n",
    "help(weather_conditions_alert)"
   ]
  },
  {
   "cell_type": "code",
   "execution_count": 241,
   "id": "0cb34f0d-93a0-4754-aa76-20b44b6e6540",
   "metadata": {},
   "outputs": [],
   "source": [
    "# Defining values of wind speed and visibility for test the function\n",
    "wind_speed = [2.0, 5.0, 10.0, 10.0, 20.0]\n",
    "visibility = [ 800, 110,  600,  400,  700]"
   ]
  },
  {
   "cell_type": "code",
   "execution_count": 242,
   "id": "11fc72e4-476f-4267-a4da-b081c470e12b",
   "metadata": {},
   "outputs": [
    {
     "name": "stdout",
     "output_type": "stream",
     "text": [
      "[        WEATHER REPORT       ]\n",
      "[ --------------------------- ]\n",
      "[ Wind speed :  2.0  (knots) ]\n",
      "[ Visibility :  800  (meters) ]\n",
      "[ --------------------------- ]\n",
      "\n",
      "[ IT'S A GOOD TIME TO FLY! ]\n"
     ]
    }
   ],
   "source": [
    "# Testing the function. Change 'index' (0,1,2,3,4) for different reports.\n",
    "index = 0\n",
    "weather_conditions_alert(wind_speed[index], visibility[index])"
   ]
  },
  {
   "cell_type": "markdown",
   "id": "86f38314-0e1a-4921-b059-fc233443ff52",
   "metadata": {},
   "source": [
    "-- --\n",
    "## Task 3\n",
    "\n",
    "In the previous notebook we repeatedly graphed a zero-centered Gaussian function by modifying the sigma parameter.\n",
    " \n",
    "This task could have been easier if we had encapsulated the Gaussian function within a Python function. In addition, defining functions to perform calculations helps us prevent mistake. Especially, if we create a function with good documentation that we can use in the future. These habits (among others) are part of what is known as good practices for software development.\n",
    "\n",
    "- Write a function that evaluates the Gaussian function and returns its value.\n",
    "- This function must be able to accept a value of sigma as an argument, assuming it by default equal to 1.\n",
    "- Add a detailed documentation of the Gaussian function. What does the function do? What arguments does it support? What values does it return?\n",
    "- Select at least three different values of sigma and plot the Gaussians using a for loop.\n",
    "\n",
    "### Bonus track\n",
    "\n",
    "The generalized expression of the Gaussian function uses the mu parameter that indicates the abscissa corresponding to the peak of the function.\n",
    "\n",
    "- Generalize the function to allow an additional argument mu, with a default value equal to 0.\n",
    "- Update the function documentation for the new value.\n",
    "- Select at least three different values of mu and plot the Gaussians for the same value of sigma.\n"
   ]
  },
  {
   "cell_type": "code",
   "execution_count": 243,
   "id": "b59cd550-8468-4419-82b4-0c8b6b92c78c",
   "metadata": {},
   "outputs": [
    {
     "name": "stdout",
     "output_type": "stream",
     "text": [
      "Help on function gaussian_function in module __main__:\n",
      "\n",
      "gaussian_function(x, mu=0, sigma=1)\n",
      "    Provide the Gaussian function evaluated in 'x' values, with parameters 'mu' and 'sigma'.\n",
      "    \n",
      "    -- Parameters:\n",
      "    x     : list or numpy array.\n",
      "            Values used to evaluate the Gaussian function g(x).\n",
      "    mu    : float, optional.\n",
      "            Location parameter of g(x).\n",
      "    sigma : float, optional.\n",
      "            Scale parameter of g(x).\n",
      "            \n",
      "    -- Returns:\n",
      "    g_values : numpy array.\n",
      "               Values obtained by evaluating g(x).\n",
      "\n"
     ]
    }
   ],
   "source": [
    "# Creating a function for the general form of the Gaussian function.\n",
    "def gaussian_function(x, mu=0, sigma=1):\n",
    "    \"\"\"\n",
    "    Provide the Gaussian function evaluated in 'x' values, with parameters 'mu' and 'sigma'.\n",
    "    \n",
    "    -- Parameters:\n",
    "    x     : list or numpy array.\n",
    "            Values used to evaluate the Gaussian function g(x).\n",
    "    mu    : float, optional.\n",
    "            Location parameter of g(x).\n",
    "    sigma : float, optional.\n",
    "            Scale parameter of g(x).\n",
    "            \n",
    "    -- Returns:\n",
    "    g_values : numpy array.\n",
    "               Values obtained by evaluating g(x).\n",
    "    \"\"\"\n",
    "    \n",
    "    tempCalc1 = -(1/2)*((x-mu)/sigma)**2\n",
    "    tempCalc2 = sigma*np.sqrt(2*np.pi)\n",
    "    g_values  = np.exp(tempCalc1)/tempCalc2\n",
    "    \n",
    "    return g_values\n",
    "# gaussian_function END\n",
    "\n",
    "help(gaussian_function)"
   ]
  },
  {
   "cell_type": "code",
   "execution_count": 244,
   "id": "c7dc2390-277e-46a8-8fe0-dbab82985273",
   "metadata": {},
   "outputs": [],
   "source": [
    "# Evaluating the Gaussian function using mu=0 and different sigma values\n",
    "sigma_values = [0.25, 0.50, 1.00]\n",
    "\n",
    "x_values = np.linspace(-3, 3, 1000)\n",
    "y_values = np.zeros((len(x_values),3))\n",
    "\n",
    "for i in range(3): \n",
    "    y_values[:,i] = gaussian_function(x_values, sigma=sigma_values[i])"
   ]
  },
  {
   "cell_type": "code",
   "execution_count": 245,
   "id": "348f1c77-626a-4306-a82a-a4d9bfe56436",
   "metadata": {},
   "outputs": [
    {
     "data": {
      "image/png": "[encoded data removed]",
      "text/plain": [
       "<Figure size 432x288 with 1 Axes>"
      ]
     },
     "metadata": {
      "needs_background": "light"
     },
     "output_type": "display_data"
    }
   ],
   "source": [
    "# Plotting the values\n",
    "plt.plot(x_values, y_values[:,0], linestyle=\"-\", label=\"$\\sigma=0.25$\", color=\"orange\")\n",
    "plt.plot(x_values, y_values[:,1], linestyle=\"-\", label=\"$\\sigma=0.50$\", color=\"red\")\n",
    "plt.plot(x_values, y_values[:,2], linestyle=\"-\", label=\"$\\sigma=1.00$\", color=\"black\")\n",
    "\n",
    "# Adding the legend\n",
    "plt.legend()\n",
    "\n",
    "# Adding the names\n",
    "plt.title(\"Gaussian function for $\\mu=0$ and different $\\sigma$ values\")\n",
    "plt.xlabel(\"x-values\")\n",
    "plt.ylabel(\"g(x)\")\n",
    "\n",
    "# Grid and show\n",
    "plt.grid()\n",
    "plt.show()"
   ]
  },
  {
   "cell_type": "code",
   "execution_count": 246,
   "id": "f809526a-69a1-4ab3-b4ab-b23f480d35f9",
   "metadata": {},
   "outputs": [],
   "source": [
    "# Evaluating the Gaussian function using sigma=1.0 and different mu values\n",
    "mu_values = [0.00, 0.50, 1.00]\n",
    "\n",
    "x_values = np.linspace(-5, 5, 1000)\n",
    "y_values = np.zeros((len(x_values),3))\n",
    "\n",
    "for i in range(3): \n",
    "    y_values[:,i] = gaussian_function(x_values, mu=mu_values[i])"
   ]
  },
  {
   "cell_type": "code",
   "execution_count": 247,
   "id": "2daf1cf1-201f-4c7f-8da8-9a846f431288",
   "metadata": {},
   "outputs": [
    {
     "data": {
      "image/png": "[encoded data removed]",
      "text/plain": [
       "<Figure size 432x288 with 1 Axes>"
      ]
     },
     "metadata": {
      "needs_background": "light"
     },
     "output_type": "display_data"
    }
   ],
   "source": [
    "# Plotting the values\n",
    "plt.plot(x_values, y_values[:,0], linestyle=\"-\", label=\"$\\mu=0.00$\", color=\"orange\")\n",
    "plt.plot(x_values, y_values[:,1], linestyle=\"-\", label=\"$\\mu=0.50$\", color=\"red\")\n",
    "plt.plot(x_values, y_values[:,2], linestyle=\"-\", label=\"$\\mu=1.00$\", color=\"black\")\n",
    "\n",
    "# Adding the legend\n",
    "plt.legend()\n",
    "\n",
    "# Adding the names\n",
    "plt.title(\"Gaussian function for $\\sigma=1$ and different $\\mu$ values\")\n",
    "plt.xlabel(\"x-values\")\n",
    "plt.ylabel(\"g(x)\")\n",
    "\n",
    "# Grid and show\n",
    "plt.grid()\n",
    "plt.show()"
   ]
  },
  {
   "cell_type": "markdown",
   "id": "da3f73bc-41fd-4d8e-b259-def700bb5dd6",
   "metadata": {},
   "source": [
    "-- --"
   ]
  }
 ],
 "metadata": {
  "kernelspec": {
   "display_name": "CoCo",
   "language": "python",
   "name": "coco"
  },
  "language_info": {
   "codemirror_mode": {
    "name": "ipython",
    "version": 3
   },
   "file_extension": ".py",
   "mimetype": "text/x-python",
   "name": "python",
   "nbconvert_exporter": "python",
   "pygments_lexer": "ipython3",
   "version": "3.10.4"
  }
 },
 "nbformat": 4,
 "nbformat_minor": 5
}
